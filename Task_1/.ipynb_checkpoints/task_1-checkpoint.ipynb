{
 "cells": [
  {
   "cell_type": "code",
   "execution_count": 1,
   "id": "329c35c9",
   "metadata": {},
   "outputs": [
    {
     "data": {
      "text/plain": [
       "True"
      ]
     },
     "execution_count": 1,
     "metadata": {},
     "output_type": "execute_result"
    }
   ],
   "source": [
    "import cv2\n",
    "import numpy as np\n",
    "\n",
    "source_image = cv2.imread('image.png')\n",
    "empty_board = cv2.imread('board.jpg')\n",
    "\n",
    "alpha_channel = np.ones((source_image.shape[0], source_image.shape[1]), dtype=np.uint8) * 255\n",
    "source_image = cv2.cvtColor(source_image, cv2.COLOR_BGR2BGRA)\n",
    "source_image[:, :, 3] = alpha_channel\n",
    "\n",
    "empty_board_pts = np.array([[141, 196], [588, 42], [621, 273], [117, 406]], dtype='float32')\n",
    "# This is calculated by onother line of code . Assist is taken from geeks for geeks \n",
    "source_pts = np.array([[0, 0], [source_image.shape[1], 0], [source_image.shape[1], source_image.shape[0]], [0, source_image.shape[0]]], dtype='float32')\n",
    "\n",
    "M = cv2.getPerspectiveTransform(source_pts, empty_board_pts)\n",
    "result = cv2.warpPerspective(source_image, M, (empty_board.shape[1], empty_board.shape[0]))\n",
    "\n",
    "result_rgb = result[:, :, :3]\n",
    "alpha_mask = result[:, :, 3]\n",
    "alpha_mask_inv = cv2.bitwise_not(alpha_mask)\n",
    "\n",
    "final_result = cv2.bitwise_and(empty_board, empty_board, mask=alpha_mask_inv)\n",
    "final_result += cv2.bitwise_and(result_rgb, result_rgb, mask=alpha_mask)\n",
    "\n",
    "cv2.imwrite('final_result.jpg', final_result)\n"
   ]
  },
  {
   "cell_type": "code",
   "execution_count": null,
   "id": "b46c5459",
   "metadata": {},
   "outputs": [],
   "source": []
  }
 ],
 "metadata": {
  "kernelspec": {
   "display_name": "Python 3 (ipykernel)",
   "language": "python",
   "name": "python3"
  },
  "language_info": {
   "codemirror_mode": {
    "name": "ipython",
    "version": 3
   },
   "file_extension": ".py",
   "mimetype": "text/x-python",
   "name": "python",
   "nbconvert_exporter": "python",
   "pygments_lexer": "ipython3",
   "version": "3.9.4"
  }
 },
 "nbformat": 4,
 "nbformat_minor": 5
}
