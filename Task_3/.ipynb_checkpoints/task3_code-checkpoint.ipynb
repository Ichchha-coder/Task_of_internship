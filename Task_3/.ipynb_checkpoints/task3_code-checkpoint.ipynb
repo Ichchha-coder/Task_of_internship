{
 "cells": [
  {
   "cell_type": "code",
   "execution_count": 1,
   "id": "5cebcfb8",
   "metadata": {},
   "outputs": [
    {
     "name": "stdout",
     "output_type": "stream",
     "text": [
      "PSNR (K-means): 25.06 dB\n",
      "PSNR (SVD): 28.40 dB\n"
     ]
    },
    {
     "data": {
      "text/plain": [
       "True"
      ]
     },
     "execution_count": 1,
     "metadata": {},
     "output_type": "execute_result"
    }
   ],
   "source": [
    "import cv2\n",
    "import numpy as np\n",
    "from sklearn.cluster import KMeans\n",
    "from scipy.linalg import svd\n",
    "\n",
    "original_image = cv2.imread('art.jpg')\n",
    "\n",
    "k_kmeans = 32\n",
    "k_svd = 100\n",
    "\n",
    "def kmeans_compression(image, k):\n",
    "    pixels = image.reshape((-1, 3))\n",
    "    kmeans = KMeans(n_clusters=k)\n",
    "    kmeans.fit(pixels)\n",
    "    labels = kmeans.predict(pixels)\n",
    "    centers = kmeans.cluster_centers_\n",
    "    compressed_pixels = centers[labels].reshape(image.shape)\n",
    "    return compressed_pixels\n",
    "\n",
    "def svd_compression(image, k):\n",
    "    gray_image = cv2.cvtColor(image, cv2.COLOR_BGR2GRAY)\n",
    "    U, S, Vt = svd(gray_image, full_matrices=False)\n",
    "    S_k = np.diag(S[:k])\n",
    "    compressed_image = np.dot(U[:, :k], np.dot(S_k, Vt[:k, :]))\n",
    "    return cv2.cvtColor(compressed_image.astype(np.uint8), cv2.COLOR_GRAY2BGR)\n",
    "\n",
    "def calculate_psnr(original, compressed):\n",
    "    mse = np.mean((original - compressed) ** 2)\n",
    "    max_pixel = 255.0\n",
    "    psnr = 20 * np.log10(max_pixel / np.sqrt(mse))\n",
    "    return psnr\n",
    "\n",
    "compressed_kmeans = kmeans_compression(original_image, k_kmeans)\n",
    "compressed_svd = svd_compression(original_image, k_svd)\n",
    "\n",
    "psnr_kmeans = calculate_psnr(original_image, compressed_kmeans)\n",
    "psnr_svd = calculate_psnr(original_image, compressed_svd)\n",
    "\n",
    "print(f\"PSNR (K-means): {psnr_kmeans:.2f} dB\")\n",
    "print(f\"PSNR (SVD): {psnr_svd:.2f} dB\")\n",
    "\n",
    "cv2.imwrite('compressed_kmeans_art.jpg', compressed_kmeans)\n",
    "cv2.imwrite('compressed_svd_art.jpg', compressed_svd)\n"
   ]
  },
  {
   "cell_type": "markdown",
   "id": "9e58d3c0",
   "metadata": {},
   "source": [
    "Based on the provided PSNR values:\n",
    "\n",
    "PSNR (K-means): 25.06 dB\n",
    "PSNR (SVD): 28.40 dB\n",
    "The SVD compression method provides significantly better image quality (with a higher PSNR value) compared to the K-means clustering method at the same compression ratio. In this specific comparison, SVD offers better image quality while achieving the same level of compression. But adjusting the paramters can result the different result."
   ]
  },
  {
   "cell_type": "markdown",
   "id": "069297de",
   "metadata": {},
   "source": [
    "For k-means clustering \n",
    "Advantages :\n",
    "Effective color reduction for images with limited color palettes.\n",
    "Faster and computationally less intensive.\n",
    "Disadvantages:\n",
    "Lossy compression may sacrifice image quality, especially for complex color patterns.\n",
    "\n",
    "SVD decomposition\n",
    "Advantages:\n",
    "Offers lossless compression and fine detail preservation.\n",
    "Mathematically well-founded and flexible\n",
    "Disadvantages:\n",
    "Computationally intensive, leading to longer compression times.\n",
    "Complex implementation compared to K-means."
   ]
  }
 ],
 "metadata": {
  "kernelspec": {
   "display_name": "Python 3 (ipykernel)",
   "language": "python",
   "name": "python3"
  },
  "language_info": {
   "codemirror_mode": {
    "name": "ipython",
    "version": 3
   },
   "file_extension": ".py",
   "mimetype": "text/x-python",
   "name": "python",
   "nbconvert_exporter": "python",
   "pygments_lexer": "ipython3",
   "version": "3.9.4"
  }
 },
 "nbformat": 4,
 "nbformat_minor": 5
}
